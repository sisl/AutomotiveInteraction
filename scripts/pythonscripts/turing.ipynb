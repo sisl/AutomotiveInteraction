{
 "cells": [
  {
   "cell_type": "markdown",
   "metadata": {},
   "source": [
    "- Notebook to process the car driving Turing test results"
   ]
  },
  {
   "cell_type": "code",
   "execution_count": 1,
   "metadata": {
    "code_folding": [
     0
    ]
   },
   "outputs": [],
   "source": [
    "# imports\n",
    "from sklearn import metrics\n",
    "import numpy as np\n",
    "import pandas as pd\n",
    "import seaborn as sns\n",
    "import matplotlib.pyplot as plt"
   ]
  },
  {
   "cell_type": "code",
   "execution_count": 2,
   "metadata": {
    "code_folding": [
     0
    ]
   },
   "outputs": [],
   "source": [
    "# Read the csv file and parse into classes\n",
    "myFile = pd.read_csv('example.csv',sep=',')\n",
    "data = myFile.values"
   ]
  },
  {
   "cell_type": "code",
   "execution_count": 3,
   "metadata": {
    "code_folding": [
     0
    ]
   },
   "outputs": [],
   "source": [
    "# ground truth: 1 is real, 2 is fake\n",
    "groundtruth = np.array([2,1,1,1,2,2,2,2,1,1])\n",
    "#print(groundtruth)"
   ]
  },
  {
   "cell_type": "code",
   "execution_count": 27,
   "metadata": {
    "code_folding": [
     0
    ]
   },
   "outputs": [],
   "source": [
    "# Go over the responses and capture true negatives, true positive, false negative and false positives\n",
    "nrows = data.shape[0]\n",
    "ncols = data.shape[1]\n",
    "\n",
    "tp =0;tn=0;fp=0;fn=0\n",
    "for rownum in range(nrows):\n",
    "    #print('rownum = ',rownum)\n",
    "    for colnum in range(ncols):\n",
    "        #print('colnum = ',colnum)\n",
    "        truth = groundtruth[colnum]\n",
    "        #print('truth = ',truth)\n",
    "        pred = data[rownum][colnum]\n",
    "        #print('pred = ',pred)\n",
    "        if pred == truth:\n",
    "            #print(\"Either tn or tp\")\n",
    "            if truth == 1: # Ground truth is real driving\n",
    "                tp = tp+1\n",
    "            else:          # Ground truth is fake driving\n",
    "                tn = tn+1\n",
    "        else:\n",
    "            if truth == 1: # Ground truth is real\n",
    "                fn = fn+1\n",
    "            else:\n",
    "                fp = fp+1\n"
   ]
  },
  {
   "cell_type": "code",
   "execution_count": 28,
   "metadata": {},
   "outputs": [
    {
     "name": "stdout",
     "output_type": "stream",
     "text": [
      "[[40 30]\n",
      " [20 30]]\n"
     ]
    }
   ],
   "source": [
    "cnf_matrix = np.array([[tp,fp],[fn,tn]])\n",
    "print(cnf_matrix)"
   ]
  },
  {
   "cell_type": "code",
   "execution_count": 29,
   "metadata": {
    "code_folding": [
     0
    ]
   },
   "outputs": [
    {
     "data": {
      "text/plain": [
       "Text(0.5,257.44,'Predicted driving')"
      ]
     },
     "execution_count": 29,
     "metadata": {},
     "output_type": "execute_result"
    },
    {
     "data": {
      "image/png": "[encoded data removed]",
      "text/plain": [
       "<matplotlib.figure.Figure at 0x7f0c4e383128>"
      ]
     },
     "metadata": {
      "needs_background": "light"
     },
     "output_type": "display_data"
    }
   ],
   "source": [
    "# Create the Confusion Matrix\n",
    "\n",
    "# Visualizing the Confusion Matrix\n",
    "class_names = [1,2] # Our diagnosis categories\n",
    "\n",
    "fig, ax = plt.subplots()\n",
    "# Setting up and visualizing the plot (do not worry about the code below!)\n",
    "tick_marks = np.arange(1,3) \n",
    "plt.xticks(tick_marks, class_names)\n",
    "plt.yticks(tick_marks, class_names)\n",
    "sns.heatmap(pd.DataFrame(cnf_matrix), annot=True, cmap=\"YlGnBu\" ,fmt='g') # Creating heatmap\n",
    "ax.xaxis.set_label_position(\"top\")\n",
    "plt.tight_layout()\n",
    "plt.title('Confusion matrix', y = 1.1)\n",
    "plt.ylabel('Actual driving')\n",
    "plt.xlabel('Predicted driving')"
   ]
  }
 ],
 "metadata": {
  "kernelspec": {
   "display_name": "cs230",
   "language": "python",
   "name": "cs230"
  },
  "language_info": {
   "codemirror_mode": {
    "name": "ipython",
    "version": 3
   },
   "file_extension": ".py",
   "mimetype": "text/x-python",
   "name": "python",
   "nbconvert_exporter": "python",
   "pygments_lexer": "ipython3",
   "version": "3.6.6"
  }
 },
 "nbformat": 4,
 "nbformat_minor": 4
}
