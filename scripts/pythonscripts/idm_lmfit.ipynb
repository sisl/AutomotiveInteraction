{
 "cells": [
  {
   "cell_type": "markdown",
   "metadata": {},
   "source": [
    "- Helper to AutomotiveInteraction.jl\n",
    "- Perform non-linear least squares fit using Levenberg-Marquardt\n",
    "- Adapted from Jeremy Morton's code in LSTM-acc-predict\n",
    "- The IDM features and true acceleration value is provided by the Julia code in the form of .txt file\n",
    "- Should think about integrating python part i.e. this file directly using PyCall but leave for later\n",
    "\n",
    "- How this works\n",
    "    - Reads in idm feature values from \"66_idmfeats.txt\" and true acceleration from \"66_trueacc.txt\"\n",
    "    - Calls lmfit.minimize to run the Leveberg-Marquardt algorithm for fitting"
   ]
  },
  {
   "cell_type": "code",
   "execution_count": 1,
   "metadata": {},
   "outputs": [],
   "source": [
    "from lmfit import minimize, Parameters, Parameter, report_fit\n",
    "import math\n",
    "import numpy as np"
   ]
  },
  {
   "cell_type": "code",
   "execution_count": 2,
   "metadata": {
    "code_folding": [
     0
    ]
   },
   "outputs": [],
   "source": [
    "# Function to minimize\n",
    "def IDM(params, i, true_acc):\n",
    "    dmn = params['dmn'].value\n",
    "    T = params['T'].value\n",
    "    bcmf = params['bcmf'].value\n",
    "    smx = params['smx'].value\n",
    "    amx = params['amx'].value\n",
    "    \n",
    "    d = x[i, 0]\n",
    "    r = x[i, 1]\n",
    "    s = x[i, 2]\n",
    "    \n",
    "    d_des = dmn + T*s - s*r/2/math.sqrt(amx*bcmf)\n",
    "    pred = amx*(1 - (s/smx)**4 - (d_des/d)**2)\n",
    "    \n",
    "    return pred - true_acc"
   ]
  },
  {
   "cell_type": "code",
   "execution_count": 3,
   "metadata": {
    "code_folding": [
     0
    ]
   },
   "outputs": [],
   "source": [
    "# Define parameters; outcome is not particularly sensitive to dmn or smx values so boundaries\n",
    "# are (admittedly) a little arbitrary\n",
    "params = Parameters()\n",
    "params.add('dmn', value = 6., min = 0.1, max = 5.25) \n",
    "params.add('T', value = 1., min = 0.1, max = 5.0)\n",
    "params.add('bcmf', value = 1.0, min = 0.5, max = 5.0) \n",
    "params.add('smx', value = 15.0, min = 1.0, max = 30.0)\n",
    "params.add('amx', value = 1.0, min = 0.75, max = 3.0)"
   ]
  },
  {
   "cell_type": "code",
   "execution_count": 17,
   "metadata": {
    "code_folding": [
     0
    ]
   },
   "outputs": [],
   "source": [
    "# Read in the x and the acceleration provided a vehicle id\n",
    "vehid = 66\n",
    "x = np.loadtxt(\"{}_idmfeats.txt\".format(vehid))\n",
    "acc = np.loadtxt(\"{}_trueacc.txt\".format(vehid))"
   ]
  },
  {
   "cell_type": "code",
   "execution_count": 18,
   "metadata": {
    "code_folding": [
     0
    ]
   },
   "outputs": [],
   "source": [
    "# Perform the LM fit\n",
    "result = minimize(IDM, params, args=(range(len(acc)), acc))"
   ]
  },
  {
   "cell_type": "code",
   "execution_count": 24,
   "metadata": {},
   "outputs": [
    {
     "data": {
      "text/html": [
       "<table><tr><th> name </th><th> value </th><th> standard error </th><th> relative error </th><th> initial value </th><th> min </th><th> max </th><th> vary </th></tr><tr><td> dmn </td><td>  3.35795599 </td><td>  0.25548101 </td><td> (7.61%) </td><td> 5.25 </td><td>  0.10000000 </td><td>  5.25000000 </td><td> True </td></tr><tr><td> T </td><td>  0.10000987 </td><td>  0.02930858 </td><td> (29.31%) </td><td> 1.0 </td><td>  0.10000000 </td><td>  5.00000000 </td><td> True </td></tr><tr><td> bcmf </td><td>  5.00000000 </td><td>  0.49746135 </td><td> (9.95%) </td><td> 1.0 </td><td>  0.50000000 </td><td>  5.00000000 </td><td> True </td></tr><tr><td> smx </td><td>  10.5436958 </td><td>  0.35315817 </td><td> (3.35%) </td><td> 15.0 </td><td>  1.00000000 </td><td>  30.0000000 </td><td> True </td></tr><tr><td> amx </td><td>  0.75000740 </td><td>  0.12666860 </td><td> (16.89%) </td><td> 1.0 </td><td>  0.75000000 </td><td>  3.00000000 </td><td> True </td></tr></table>"
      ],
      "text/plain": [
       "Parameters([('dmn',\n",
       "             <Parameter 'dmn', value=3.357955986231326 +/- 0.255, bounds=[0.1:5.25]>),\n",
       "            ('T',\n",
       "             <Parameter 'T', value=0.10000987398711528 +/- 0.0293, bounds=[0.1:5.0]>),\n",
       "            ('bcmf',\n",
       "             <Parameter 'bcmf', value=4.999999999955239 +/- 0.497, bounds=[0.5:5.0]>),\n",
       "            ('smx',\n",
       "             <Parameter 'smx', value=10.54369581728179 +/- 0.353, bounds=[1.0:30.0]>),\n",
       "            ('amx',\n",
       "             <Parameter 'amx', value=0.7500074002388037 +/- 0.127, bounds=[0.75:3.0]>)])"
      ]
     },
     "execution_count": 24,
     "metadata": {},
     "output_type": "execute_result"
    }
   ],
   "source": [
    "result.params"
   ]
  },
  {
   "cell_type": "code",
   "execution_count": 25,
   "metadata": {},
   "outputs": [
    {
     "data": {
      "text/plain": [
       "10.54369581728179"
      ]
     },
     "execution_count": 25,
     "metadata": {},
     "output_type": "execute_result"
    }
   ],
   "source": [
    "result.params['smx'].value"
   ]
  },
  {
   "cell_type": "code",
   "execution_count": 20,
   "metadata": {},
   "outputs": [
    {
     "data": {
      "text/plain": [
       "0.18881790619869915"
      ]
     },
     "execution_count": 20,
     "metadata": {},
     "output_type": "execute_result"
    }
   ],
   "source": [
    "sum(abs(result.residual))/130"
   ]
  }
 ],
 "metadata": {
  "kernelspec": {
   "display_name": "Python 3",
   "language": "python",
   "name": "python3"
  },
  "language_info": {
   "codemirror_mode": {
    "name": "ipython",
    "version": 3
   },
   "file_extension": ".py",
   "mimetype": "text/x-python",
   "name": "python",
   "nbconvert_exporter": "python",
   "pygments_lexer": "ipython3",
   "version": "3.7.3"
  }
 },
 "nbformat": 4,
 "nbformat_minor": 2
}
