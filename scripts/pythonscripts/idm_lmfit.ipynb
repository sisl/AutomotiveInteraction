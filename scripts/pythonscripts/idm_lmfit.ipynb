{
 "cells": [
  {
   "cell_type": "markdown",
   "metadata": {},
   "source": [
    "- Helper to AutomotiveInteraction.jl\n",
    "- Perform non-linear least squares fit using Levenberg-Marquardt\n",
    "- Adapted from Jeremy Morton's code in LSTM-acc-predict\n",
    "- The IDM features and true acceleration value is provided by the Julia code in the form of .txt file\n",
    "- Should think about integrating python part i.e. this file directly using PyCall but leave for later"
   ]
  },
  {
   "cell_type": "code",
   "execution_count": 1,
   "metadata": {},
   "outputs": [],
   "source": [
    "from lmfit import minimize, Parameters, Parameter, report_fit\n",
    "import math\n",
    "import numpy as np"
   ]
  },
  {
   "cell_type": "code",
   "execution_count": 2,
   "metadata": {},
   "outputs": [],
   "source": [
    "# Function to minimize\n",
    "def IDM(params, i, true_acc):\n",
    "    dmn = params['dmn'].value\n",
    "    T = params['T'].value\n",
    "    bcmf = params['bcmf'].value\n",
    "    smx = params['smx'].value\n",
    "    amx = params['amx'].value\n",
    "    \n",
    "    d = x[i, 0]\n",
    "    r = x[i, 1]\n",
    "    s = x[i, 2]\n",
    "    \n",
    "    d_des = dmn + T*s - s*r/2/math.sqrt(amx*bcmf)\n",
    "    pred = amx*(1 - (s/smx)**4 - (d_des/d)**2)\n",
    "    \n",
    "    return pred - true_acc"
   ]
  },
  {
   "cell_type": "code",
   "execution_count": 3,
   "metadata": {},
   "outputs": [],
   "source": [
    "# Define parameters; outcome is not particularly sensitive to dmn or smx values so boundaries\n",
    "# are (admittedly) a little arbitrary\n",
    "params = Parameters()\n",
    "params.add('dmn', value = 6., min = 0.1, max = 5.25) \n",
    "params.add('T', value = 1., min = 0.1, max = 5.0)\n",
    "params.add('bcmf', value = 1.0, min = 0.5, max = 5.0) \n",
    "params.add('smx', value = 15.0, min = 1.0, max = 30.0)\n",
    "params.add('amx', value = 1.0, min = 0.75, max = 3.0)"
   ]
  },
  {
   "cell_type": "code",
   "execution_count": null,
   "metadata": {},
   "outputs": [],
   "source": [
    "result = minimize(IDM, params, args=(range(len(acc)), acc))"
   ]
  },
  {
   "cell_type": "code",
   "execution_count": null,
   "metadata": {},
   "outputs": [],
   "source": [
    "result.params"
   ]
  },
  {
   "cell_type": "code",
   "execution_count": null,
   "metadata": {},
   "outputs": [],
   "source": [
    "sum(abs(result.residual))/count"
   ]
  }
 ],
 "metadata": {
  "kernelspec": {
   "display_name": "Python 3",
   "language": "python",
   "name": "python3"
  },
  "language_info": {
   "codemirror_mode": {
    "name": "ipython",
    "version": 3
   },
   "file_extension": ".py",
   "mimetype": "text/x-python",
   "name": "python",
   "nbconvert_exporter": "python",
   "pygments_lexer": "ipython3",
   "version": "3.7.3"
  }
 },
 "nbformat": 4,
 "nbformat_minor": 2
}
